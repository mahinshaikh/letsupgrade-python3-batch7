{
  "nbformat": 4,
  "nbformat_minor": 0,
  "metadata": {
    "colab": {
      "name": "python3 Assignment1 batch7 letsupgrade",
      "provenance": []
    },
    "kernelspec": {
      "name": "python3",
      "display_name": "Python 3"
    }
  },
  "cells": [
    {
      "cell_type": "code",
      "metadata": {
        "id": "1QNy-kzSesXw",
        "colab_type": "code",
        "colab": {
          "base_uri": "https://localhost:8080/",
          "height": 34
        },
        "outputId": "33f47b19-31af-468d-af63-853f0c25be60"
      },
      "source": [
        "#String  and default methods\n",
        "\n",
        "#1. istitle() method\n",
        "\n",
        "str1=\"welcome to letsupgrade\"\n",
        "str2=str1.istitle()\n",
        "print(str2)\n",
        "\n"
      ],
      "execution_count": 2,
      "outputs": [
        {
          "output_type": "stream",
          "text": [
            "False\n"
          ],
          "name": "stdout"
        }
      ]
    },
    {
      "cell_type": "code",
      "metadata": {
        "id": "wu1P_H0tfgbk",
        "colab_type": "code",
        "colab": {
          "base_uri": "https://localhost:8080/",
          "height": 34
        },
        "outputId": "c6d0c7af-f72a-48af-f6e8-e00bf7025ea3"
      },
      "source": [
        "#2. find() method\n",
        "\n",
        "str1=\"hey i am from letsupgrade\"\n",
        "x=str1.find(\"lets\")\n",
        "print(x)"
      ],
      "execution_count": 4,
      "outputs": [
        {
          "output_type": "stream",
          "text": [
            "14\n"
          ],
          "name": "stdout"
        }
      ]
    },
    {
      "cell_type": "code",
      "metadata": {
        "id": "nBjc2-QYgQIF",
        "colab_type": "code",
        "colab": {
          "base_uri": "https://localhost:8080/",
          "height": 34
        },
        "outputId": "5730ec73-a321-4e54-a2e3-8ca81294dbd0"
      },
      "source": [
        "#3. isalnum() method\n",
        "\n",
        "str1=\"company12\"\n",
        "c=str1.isalnum()\n",
        "print(c)"
      ],
      "execution_count": 8,
      "outputs": [
        {
          "output_type": "stream",
          "text": [
            "True\n"
          ],
          "name": "stdout"
        }
      ]
    },
    {
      "cell_type": "code",
      "metadata": {
        "id": "qKsBahS-g4aO",
        "colab_type": "code",
        "colab": {
          "base_uri": "https://localhost:8080/",
          "height": 34
        },
        "outputId": "b1a9f390-fa73-49a6-80bf-9ee8f9128584"
      },
      "source": [
        "#4. isalpha() method\n",
        "\n",
        "str1=\"com8anc\"\n",
        "x=str1.isalpha()\n",
        "print(x)"
      ],
      "execution_count": 9,
      "outputs": [
        {
          "output_type": "stream",
          "text": [
            "False\n"
          ],
          "name": "stdout"
        }
      ]
    },
    {
      "cell_type": "code",
      "metadata": {
        "id": "Fb4ATX3Ng-Wi",
        "colab_type": "code",
        "colab": {
          "base_uri": "https://localhost:8080/",
          "height": 34
        },
        "outputId": "281248c8-13ef-4424-a880-5034291a2ec0"
      },
      "source": [
        "#5. isdigit() method\n",
        "\n",
        "str1=\"344527\"\n",
        "x=str1.isdigit()\n",
        "print(x)"
      ],
      "execution_count": 10,
      "outputs": [
        {
          "output_type": "stream",
          "text": [
            "True\n"
          ],
          "name": "stdout"
        }
      ]
    },
    {
      "cell_type": "code",
      "metadata": {
        "id": "PiwhXialhr36",
        "colab_type": "code",
        "colab": {}
      },
      "source": [
        "#2 List default methods\n",
        "\n"
      ],
      "execution_count": null,
      "outputs": []
    },
    {
      "cell_type": "code",
      "metadata": {
        "id": "XtdC4TzThxuX",
        "colab_type": "code",
        "colab": {
          "base_uri": "https://localhost:8080/",
          "height": 34
        },
        "outputId": "a104eab6-6415-4489-ff7f-c3cf71cb71fe"
      },
      "source": [
        "#1. append() method\n",
        "\n",
        "list1=[\"apple\",\"banana\",\"cherry\"]\n",
        "list1.append(\"orange\")\n",
        "print(list1)"
      ],
      "execution_count": 12,
      "outputs": [
        {
          "output_type": "stream",
          "text": [
            "['apple', 'banana', 'cherry', 'orange']\n"
          ],
          "name": "stdout"
        }
      ]
    },
    {
      "cell_type": "code",
      "metadata": {
        "id": "SeL6JLwdiVvp",
        "colab_type": "code",
        "colab": {
          "base_uri": "https://localhost:8080/",
          "height": 34
        },
        "outputId": "b5c19d83-1f56-478f-ed8b-89fabb686562"
      },
      "source": [
        "#2. extend() method\n",
        "\n",
        "a=[1,2,3]\n",
        "b=[4,5,6]\n",
        "a.extend(b)\n",
        "print(\"join a list\",a)\n"
      ],
      "execution_count": 13,
      "outputs": [
        {
          "output_type": "stream",
          "text": [
            "join a list [1, 2, 3, 4, 5, 6]\n"
          ],
          "name": "stdout"
        }
      ]
    },
    {
      "cell_type": "code",
      "metadata": {
        "id": "riUkveaiiuVq",
        "colab_type": "code",
        "colab": {
          "base_uri": "https://localhost:8080/",
          "height": 34
        },
        "outputId": "a84727f2-8cec-4ca6-9e02-e600b6026b75"
      },
      "source": [
        "#3. insert() method\n",
        "\n",
        "a=[1,2,3,5]\n",
        "a.insert(3,4)\n",
        "print(a)"
      ],
      "execution_count": 15,
      "outputs": [
        {
          "output_type": "stream",
          "text": [
            "[1, 2, 3, 4, 5]\n"
          ],
          "name": "stdout"
        }
      ]
    },
    {
      "cell_type": "code",
      "metadata": {
        "id": "EHoh2I9NjEnQ",
        "colab_type": "code",
        "colab": {
          "base_uri": "https://localhost:8080/",
          "height": 34
        },
        "outputId": "37eabd80-9c1e-479c-9e44-e888c7a4aee9"
      },
      "source": [
        "#4. remove() method\n",
        "\n",
        "a=[2,4,6,8,10]\n",
        "a.remove(4)\n",
        "print(a)"
      ],
      "execution_count": 16,
      "outputs": [
        {
          "output_type": "stream",
          "text": [
            "[2, 6, 8, 10]\n"
          ],
          "name": "stdout"
        }
      ]
    },
    {
      "cell_type": "code",
      "metadata": {
        "id": "HYmtN67NjTdc",
        "colab_type": "code",
        "colab": {
          "base_uri": "https://localhost:8080/",
          "height": 34
        },
        "outputId": "7bcd053a-7dcb-4d40-c278-d6c34b6f794c"
      },
      "source": [
        "#5. clear() method\n",
        "\n",
        "a=[1,2,34,5,6,7,8]\n",
        "a.clear()\n",
        "print(a)"
      ],
      "execution_count": 19,
      "outputs": [
        {
          "output_type": "stream",
          "text": [
            "[]\n"
          ],
          "name": "stdout"
        }
      ]
    },
    {
      "cell_type": "code",
      "metadata": {
        "id": "L8C7oKrlj4ia",
        "colab_type": "code",
        "colab": {}
      },
      "source": [
        "#3. Dictionary default method"
      ],
      "execution_count": null,
      "outputs": []
    },
    {
      "cell_type": "code",
      "metadata": {
        "id": "RE_wlk5akPi8",
        "colab_type": "code",
        "colab": {
          "base_uri": "https://localhost:8080/",
          "height": 34
        },
        "outputId": "e49bb862-ae3f-4a25-fd70-77762362fa50"
      },
      "source": [
        "#1. pop() method\n",
        "\n",
        "dit={\"rollno\":\"12\",\"name\":\"abc\",\"dob\":\"1999\"}\n",
        "dit.pop(\"name\")\n",
        "print(dit)"
      ],
      "execution_count": 20,
      "outputs": [
        {
          "output_type": "stream",
          "text": [
            "{'rollno': '12', 'dob': '1999'}\n"
          ],
          "name": "stdout"
        }
      ]
    },
    {
      "cell_type": "code",
      "metadata": {
        "id": "Xnb7qWjYlPtk",
        "colab_type": "code",
        "colab": {
          "base_uri": "https://localhost:8080/",
          "height": 34
        },
        "outputId": "8b2b881d-9990-4592-d6e1-e35e50957949"
      },
      "source": [
        "#2. del() method\n",
        "\n",
        "dit={\"rollno\":\"12\",\"name\":\"abc\",\"dob\":\"1999\"}\n",
        "\n",
        "del dit[\"rollno\"]\n",
        "print(dit)"
      ],
      "execution_count": 22,
      "outputs": [
        {
          "output_type": "stream",
          "text": [
            "{'name': 'abc', 'dob': '1999'}\n"
          ],
          "name": "stdout"
        }
      ]
    },
    {
      "cell_type": "code",
      "metadata": {
        "id": "xNiBEFtLlp7P",
        "colab_type": "code",
        "colab": {
          "base_uri": "https://localhost:8080/",
          "height": 34
        },
        "outputId": "ca6a7b28-47b2-4a53-e413-807a5f40385f"
      },
      "source": [
        "#3 fromkeys() method\n",
        "\n",
        "key1={'a','e','i','o','u'}\n",
        "v=dict.fromkeys(key1)\n",
        "print(v)"
      ],
      "execution_count": 23,
      "outputs": [
        {
          "output_type": "stream",
          "text": [
            "{'a': None, 'e': None, 'u': None, 'i': None, 'o': None}\n"
          ],
          "name": "stdout"
        }
      ]
    },
    {
      "cell_type": "code",
      "metadata": {
        "id": "eFP73cNamD18",
        "colab_type": "code",
        "colab": {
          "base_uri": "https://localhost:8080/",
          "height": 34
        },
        "outputId": "6cd79202-b715-4802-da59-76cca368200d"
      },
      "source": [
        "#4 clear() method\n",
        "dit={\"rollno\":\"12\",\"name\":\"abc\",\"dob\":\"1999\"}\n",
        "\n",
        "dit.clear()\n",
        "print(dit)\n"
      ],
      "execution_count": 24,
      "outputs": [
        {
          "output_type": "stream",
          "text": [
            "{}\n"
          ],
          "name": "stdout"
        }
      ]
    },
    {
      "cell_type": "code",
      "metadata": {
        "id": "IWiek_HGmRPq",
        "colab_type": "code",
        "colab": {
          "base_uri": "https://localhost:8080/",
          "height": 34
        },
        "outputId": "8a61b417-7ea1-429c-8318-f9480a38c665"
      },
      "source": [
        "#5 setdefault() method\n",
        "\n",
        "d={'name':'abc','age':'22'}\n",
        "age=d.setdefault('age')\n",
        "print('a=',d)"
      ],
      "execution_count": 26,
      "outputs": [
        {
          "output_type": "stream",
          "text": [
            "a= {'name': 'abc', 'age': '22'}\n"
          ],
          "name": "stdout"
        }
      ]
    },
    {
      "cell_type": "code",
      "metadata": {
        "id": "4nqKoRkXnCWA",
        "colab_type": "code",
        "colab": {}
      },
      "source": [
        "#4.Tuple default method"
      ],
      "execution_count": null,
      "outputs": []
    },
    {
      "cell_type": "code",
      "metadata": {
        "id": "N9cCWAwvnGnS",
        "colab_type": "code",
        "colab": {
          "base_uri": "https://localhost:8080/",
          "height": 34
        },
        "outputId": "93ab7091-b2e5-471e-f1e0-19f49f257e5c"
      },
      "source": [
        "#1.count() method\n",
        "\n",
        "t1=('a','e','i','i','o','u')\n",
        "c=t1.count('i')\n",
        "print(\"the count of i is=\",c)"
      ],
      "execution_count": 28,
      "outputs": [
        {
          "output_type": "stream",
          "text": [
            "the count of i is= 2\n"
          ],
          "name": "stdout"
        }
      ]
    },
    {
      "cell_type": "code",
      "metadata": {
        "id": "wCOkOliunsE0",
        "colab_type": "code",
        "colab": {
          "base_uri": "https://localhost:8080/",
          "height": 34
        },
        "outputId": "98ca3272-0a51-495c-ac60-7da77aa9dce2"
      },
      "source": [
        "#2 index() method\n",
        "\n",
        "t1=('a','e','i','i','o','u')\n",
        "i=t1.index('e')\n",
        "print(\"the index of e is=\",i)\n"
      ],
      "execution_count": 29,
      "outputs": [
        {
          "output_type": "stream",
          "text": [
            "the index of e is= 1\n"
          ],
          "name": "stdout"
        }
      ]
    },
    {
      "cell_type": "code",
      "metadata": {
        "id": "bv9SPlSZn-k5",
        "colab_type": "code",
        "colab": {
          "base_uri": "https://localhost:8080/",
          "height": 34
        },
        "outputId": "5040c352-263c-4c21-c75c-90a3cf827de5"
      },
      "source": [
        "#3 min() method\n",
        "\n",
        "\n",
        "t2=(\"100\",\"5000\",\"600\")\n",
        "print(\"max value element=\",min(t2))"
      ],
      "execution_count": 35,
      "outputs": [
        {
          "output_type": "stream",
          "text": [
            "max value element= 100\n"
          ],
          "name": "stdout"
        }
      ]
    },
    {
      "cell_type": "code",
      "metadata": {
        "id": "38uRE721o3fH",
        "colab_type": "code",
        "colab": {
          "base_uri": "https://localhost:8080/",
          "height": 34
        },
        "outputId": "3a1191ed-d111-4b61-d3e5-c2dbf23d4bb3"
      },
      "source": [
        "#4 max() method\n",
        "t1=('1','3','5','7')\n",
        "print(\"min value:\",min(t1))"
      ],
      "execution_count": 37,
      "outputs": [
        {
          "output_type": "stream",
          "text": [
            "min value: 1\n"
          ],
          "name": "stdout"
        }
      ]
    },
    {
      "cell_type": "code",
      "metadata": {
        "id": "eVC9bZD_pUQc",
        "colab_type": "code",
        "colab": {
          "base_uri": "https://localhost:8080/",
          "height": 34
        },
        "outputId": "1713a6fb-2050-467d-865f-89fb850c5083"
      },
      "source": [
        "#5 slicing \n",
        "\n",
        "t1=('a','e','i','i','o','u')\n",
        "\n",
        "print(t1[1])"
      ],
      "execution_count": 40,
      "outputs": [
        {
          "output_type": "stream",
          "text": [
            "e\n"
          ],
          "name": "stdout"
        }
      ]
    },
    {
      "cell_type": "code",
      "metadata": {
        "id": "MEr0E-EnqP_E",
        "colab_type": "code",
        "colab": {}
      },
      "source": [
        "#5 Set  default Methods"
      ],
      "execution_count": null,
      "outputs": []
    },
    {
      "cell_type": "code",
      "metadata": {
        "id": "G2jyNSCXqW0I",
        "colab_type": "code",
        "colab": {
          "base_uri": "https://localhost:8080/",
          "height": 34
        },
        "outputId": "4807a4af-bfcb-425a-867e-b5e96d9c6c34"
      },
      "source": [
        "#1.add() method\n",
        "\n",
        "s1=set([\"jan\",\"feb\",\"mar\"])\n",
        "s1.add(\"april\")\n",
        "s1.add(\"may\")\n",
        "print(\"after adding in the set modified set is:\",s1)"
      ],
      "execution_count": 41,
      "outputs": [
        {
          "output_type": "stream",
          "text": [
            "after adding in the set modified set is: {'jan', 'feb', 'may', 'mar', 'april'}\n"
          ],
          "name": "stdout"
        }
      ]
    },
    {
      "cell_type": "code",
      "metadata": {
        "id": "wAeJMcmXq0Zf",
        "colab_type": "code",
        "colab": {
          "base_uri": "https://localhost:8080/",
          "height": 34
        },
        "outputId": "6dca91d0-0fb1-434b-9f6e-9cd9c13b7931"
      },
      "source": [
        "#2 remove() method\n",
        "\n",
        "s1=set([\"jan\",\"feb\",\"mar\",\"april\",\"may\"])\n",
        "s1.remove(\"mar\")\n",
        "print(\"after removing:\",s1)"
      ],
      "execution_count": 42,
      "outputs": [
        {
          "output_type": "stream",
          "text": [
            "after removing: {'jan', 'feb', 'may', 'april'}\n"
          ],
          "name": "stdout"
        }
      ]
    },
    {
      "cell_type": "code",
      "metadata": {
        "id": "1S0treXIrNz_",
        "colab_type": "code",
        "colab": {
          "base_uri": "https://localhost:8080/",
          "height": 34
        },
        "outputId": "6bcc5a5c-c05e-41e5-bf88-318ca3f5646c"
      },
      "source": [
        "#3 union operator\n",
        "\n",
        "s1=set([\"jan\",\"feb\",\"mar\"])\n",
        "s2=set([\"mon\",\"tue\",\"wed\"])\n",
        "print(s1|s2)"
      ],
      "execution_count": 43,
      "outputs": [
        {
          "output_type": "stream",
          "text": [
            "{'jan', 'mon', 'mar', 'wed', 'tue', 'feb'}\n"
          ],
          "name": "stdout"
        }
      ]
    },
    {
      "cell_type": "code",
      "metadata": {
        "id": "UqVYUy-WriYj",
        "colab_type": "code",
        "colab": {
          "base_uri": "https://localhost:8080/",
          "height": 34
        },
        "outputId": "0d06f590-706d-4b64-ddc9-d941faa846c7"
      },
      "source": [
        "#4 intersection\n",
        "s1=set([\"jan\",\"feb\",\"mar\"])\n",
        "s2=set([\"mon\",\"tue\",\"wed\",\"jan\",\"feb\"])\n",
        "print(s1&s2)"
      ],
      "execution_count": 44,
      "outputs": [
        {
          "output_type": "stream",
          "text": [
            "{'jan', 'feb'}\n"
          ],
          "name": "stdout"
        }
      ]
    },
    {
      "cell_type": "code",
      "metadata": {
        "id": "Ii_VbuVIr4I7",
        "colab_type": "code",
        "colab": {
          "base_uri": "https://localhost:8080/",
          "height": 34
        },
        "outputId": "02c479ff-6b07-4d9b-8a9e-1ee7414f4800"
      },
      "source": [
        "#5 difference_update\n",
        "s1=set([\"jan\",\"feb\",\"mar\"])\n",
        "s2=set([\"mon\",\"tue\",\"wed\",\"jan\"])\n",
        "s1.difference_update(s2)\n",
        "print(s1)"
      ],
      "execution_count": 45,
      "outputs": [
        {
          "output_type": "stream",
          "text": [
            "{'mar', 'feb'}\n"
          ],
          "name": "stdout"
        }
      ]
    }
  ]
}